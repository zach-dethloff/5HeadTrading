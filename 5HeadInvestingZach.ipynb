{
 "cells": [
  {
   "cell_type": "code",
   "execution_count": 1,
   "metadata": {
    "pycharm": {
     "name": "#%%\n"
    }
   },
   "outputs": [
    {
     "name": "stderr",
     "output_type": "stream",
     "text": [
      "2022-11-10 23:30:53.495825: I tensorflow/core/platform/cpu_feature_guard.cc:193] This TensorFlow binary is optimized with oneAPI Deep Neural Network Library (oneDNN) to use the following CPU instructions in performance-critical operations:  SSE4.1 SSE4.2 AVX AVX2 FMA\n",
      "To enable them in other operations, rebuild TensorFlow with the appropriate compiler flags.\n"
     ]
    }
   ],
   "source": [
    "import numpy as np\n",
    "import matplotlib.pyplot as plt\n",
    "import pandas as pd\n",
    "import os\n",
    "import tensorflow\n",
    "from tensorflow import keras"
   ]
  },
  {
   "cell_type": "code",
   "execution_count": 14,
   "outputs": [],
   "source": [
    "# Multiple outputs in cells\n",
    "from IPython.core.interactiveshell import InteractiveShell\n",
    "InteractiveShell.ast_node_interactivity = \"all\""
   ],
   "metadata": {
    "collapsed": false,
    "pycharm": {
     "name": "#%%\n"
    }
   }
  },
  {
   "cell_type": "code",
   "execution_count": 5,
   "metadata": {
    "pycharm": {
     "name": "#%%\n"
    }
   },
   "outputs": [],
   "source": [
    "#data needs to be downloaded into an updating-csv file on disk\n",
    "path = os.getcwd()\n",
    "file = '/cryptodata.csv'\n",
    "\n",
    "data = pd.read_csv(path+file)"
   ]
  },
  {
   "cell_type": "code",
   "execution_count": 15,
   "outputs": [
    {
     "data": {
      "text/plain": "                  time      low     high     open    close        volume\n0  2021-06-01 01:00:00  2656.33  2733.17  2733.17  2659.90  19736.222380\n1  2021-06-01 02:00:00  2615.90  2675.85  2659.89  2645.90  18937.228584\n2  2021-06-01 03:00:00  2615.06  2679.00  2645.56  2631.28  16276.604299\n3  2021-06-01 04:00:00  2616.62  2659.88  2630.66  2637.46   7452.697987\n4  2021-06-01 05:00:00  2633.71  2714.16  2636.74  2699.64  11836.470941",
      "text/html": "<div>\n<style scoped>\n    .dataframe tbody tr th:only-of-type {\n        vertical-align: middle;\n    }\n\n    .dataframe tbody tr th {\n        vertical-align: top;\n    }\n\n    .dataframe thead th {\n        text-align: right;\n    }\n</style>\n<table border=\"1\" class=\"dataframe\">\n  <thead>\n    <tr style=\"text-align: right;\">\n      <th></th>\n      <th>time</th>\n      <th>low</th>\n      <th>high</th>\n      <th>open</th>\n      <th>close</th>\n      <th>volume</th>\n    </tr>\n  </thead>\n  <tbody>\n    <tr>\n      <th>0</th>\n      <td>2021-06-01 01:00:00</td>\n      <td>2656.33</td>\n      <td>2733.17</td>\n      <td>2733.17</td>\n      <td>2659.90</td>\n      <td>19736.222380</td>\n    </tr>\n    <tr>\n      <th>1</th>\n      <td>2021-06-01 02:00:00</td>\n      <td>2615.90</td>\n      <td>2675.85</td>\n      <td>2659.89</td>\n      <td>2645.90</td>\n      <td>18937.228584</td>\n    </tr>\n    <tr>\n      <th>2</th>\n      <td>2021-06-01 03:00:00</td>\n      <td>2615.06</td>\n      <td>2679.00</td>\n      <td>2645.56</td>\n      <td>2631.28</td>\n      <td>16276.604299</td>\n    </tr>\n    <tr>\n      <th>3</th>\n      <td>2021-06-01 04:00:00</td>\n      <td>2616.62</td>\n      <td>2659.88</td>\n      <td>2630.66</td>\n      <td>2637.46</td>\n      <td>7452.697987</td>\n    </tr>\n    <tr>\n      <th>4</th>\n      <td>2021-06-01 05:00:00</td>\n      <td>2633.71</td>\n      <td>2714.16</td>\n      <td>2636.74</td>\n      <td>2699.64</td>\n      <td>11836.470941</td>\n    </tr>\n  </tbody>\n</table>\n</div>"
     },
     "execution_count": 15,
     "metadata": {},
     "output_type": "execute_result"
    },
    {
     "data": {
      "text/plain": "(12237, 6)"
     },
     "execution_count": 15,
     "metadata": {},
     "output_type": "execute_result"
    }
   ],
   "source": [
    "data.head()\n",
    "data.shape"
   ],
   "metadata": {
    "collapsed": false,
    "pycharm": {
     "name": "#%%\n"
    }
   }
  },
  {
   "cell_type": "code",
   "execution_count": 4,
   "metadata": {
    "pycharm": {
     "name": "#%%\n"
    }
   },
   "outputs": [
    {
     "ename": "NameError",
     "evalue": "name 'data' is not defined",
     "output_type": "error",
     "traceback": [
      "\u001B[0;31m---------------------------------------------------------------------------\u001B[0m",
      "\u001B[0;31mNameError\u001B[0m                                 Traceback (most recent call last)",
      "Cell \u001B[0;32mIn [4], line 1\u001B[0m\n\u001B[0;32m----> 1\u001B[0m good_buys \u001B[38;5;241m=\u001B[39m pd\u001B[38;5;241m.\u001B[39mDataFrame(\u001B[43mdata\u001B[49m[data[\u001B[38;5;124m'\u001B[39m\u001B[38;5;124mGain?\u001B[39m\u001B[38;5;124m'\u001B[39m] \u001B[38;5;241m==\u001B[39m \u001B[38;5;241m1\u001B[39m])\n\u001B[1;32m      2\u001B[0m bad_buys  \u001B[38;5;241m=\u001B[39m pd\u001B[38;5;241m.\u001B[39mDataFrame(data[data[\u001B[38;5;124m'\u001B[39m\u001B[38;5;124mGain?\u001B[39m\u001B[38;5;124m'\u001B[39m] \u001B[38;5;241m==\u001B[39m \u001B[38;5;241m0\u001B[39m])\n\u001B[1;32m      4\u001B[0m seed \u001B[38;5;241m=\u001B[39m random\u001B[38;5;241m.\u001B[39mrandint(\u001B[38;5;241m100\u001B[39m)\n",
      "\u001B[0;31mNameError\u001B[0m: name 'data' is not defined"
     ]
    }
   ],
   "source": [
    "good_buys = pd.DataFrame(data[data['Gain?'] == 1])\n",
    "bad_buys  = pd.DataFrame(data[data['Gain?'] == 0])\n",
    "\n",
    "seed = random.randint(100)\n",
    "y = np.concatenate((np.ones(len(good_buys)), np.zeros(len(bad_buys))))\n",
    "x = data.drop(['Gain?', 'Coin'])\n",
    "\n",
    "X_train, X_test, y_train, y_test = train_test_split(x, y, test_size=0.2, random_state = seed, stratify=y)\n",
    "\n",
    "X_train = sc.fit_transform(X_train)\n",
    "X_test = sc.transform(X_test)\n",
    "\n",
    "numBranches = X_train.shape[1]"
   ]
  },
  {
   "cell_type": "code",
   "execution_count": 26,
   "metadata": {
    "pycharm": {
     "name": "#%%\n"
    }
   },
   "outputs": [],
   "source": [
    "def build_model(neurons, drop):\n",
    "    \n",
    "    model = Sequential()\n",
    "    \n",
    "    opt = keras.optimizers.Adam(lr=0.001)\n",
    "    \n",
    "    act = \"relu\"\n",
    "\n",
    "    model.add(Dense(neurons[0], input_shape=(numBranches,), activation=act))\n",
    "\n",
    "    for i in range(1, len(neurons) - 1):\n",
    "        model.add(Dense(neurons[i], activation=act))\n",
    "        model.add(Dropout(drop, seed=seed))\n",
    "\n",
    "   \n",
    "    model.add(\n",
    "        Dense(network[len(neurons)-1], activation=\"sigmoid\"))\n",
    "\n",
    "    model.compile(\n",
    "        loss=\"binary_crossentropy\",\n",
    "        optimizer=opt,\n",
    "        metrics=tf.keras.metrics.Precision(),\n",
    "    )\n",
    "    return model\n"
   ]
  },
  {
   "cell_type": "code",
   "execution_count": 27,
   "metadata": {
    "pycharm": {
     "name": "#%%\n"
    }
   },
   "outputs": [],
   "source": [
    "def running(neurons, drop, layer, batch, xtrain, xtest, ytrain, ytest):\n",
    "    network = []\n",
    "    numEpochs = 150  # Number of times the NN gets trained.\n",
    "    batchSize = BATCH\n",
    "    numLayers = LAYER\n",
    "    neurons = numBranches\n",
    "    \n",
    "    i = 0\n",
    "\n",
    "    # This creates a list that has the structure of the NN.\n",
    "    for i in range(numLayers):\n",
    "        network.append(neurons)\n",
    "    network.append(1)\n",
    "    numNeurons = sum(network)\n",
    "\n",
    "    # This is a conformation that the script is starting and the NN structure is displayed.\n",
    "    print(\"Script starting....\\n\", network)\n",
    "\n",
    "    \n",
    "    sufix = \".CPU\"\n",
    "    print(\"CPU\")\n",
    "\n",
    "    # Start time for file name.\n",
    "    startTime = datetime.now()\n",
    "    pre = time.strftime(\"%Y.%m.%d_\") + time.strftime(\"%H.%M.%S.\")\n",
    "\n",
    "    # Filename for keras model to be saved as.\n",
    "    h5name = (\n",
    "        \"numLayers\"\n",
    "        + str(LAYER)\n",
    "        + \".numBr anches\"\n",
    "        + str(neurons)\n",
    "        + \".batchSize\"\n",
    "        + str(BATCH)\n",
    "    )\n",
    "    \n",
    "    #determines user path to generate a model\n",
    "    \n",
    "    path = os.getcwd()\n",
    "    \n",
    "    modelName = path + '/' + pre + h5name + sufix + \".h5\"\n",
    "\n",
    "    # Filename for plots to be identified by saved model.\n",
    "    figname = path + '/' + pre + \".plots\"\n",
    "\n",
    "    # Using model and setting parameters.\n",
    "    model = build_model(network,RATE)\n",
    "    \n",
    "    model.save(modelName)\n",
    "\n",
    "    # This checkpoint is used for recovery of trained weights incase of interuption.\n",
    "    checkPointsCallBack = ModelCheckpoint(\"temp.h5\", save_best_only=True)\n",
    "\n",
    "    # This terminates early if the monitor does not see an improvement after a certain\n",
    "    # amount of epochs given by the patience.\n",
    "    earlyStopCallBack = EarlyStopping(\n",
    "        monitor=\"val_loss\", patience=30, restore_best_weights=True\n",
    "    )\n",
    "        \n",
    "\n",
    "    # This is where the training starts.\n",
    "    kModel = model.fit(\n",
    "        xtrain,\n",
    "        ytrain,\n",
    "        epochs=numEpochs,\n",
    "        batch_size=batchSize,\n",
    "        validation_data=(xtest, ytest),\n",
    "        verbose=1,\n",
    "        callbacks=[earlyStopCallBack, checkPointsCallBack]\n",
    "    )\n",
    "    \n",
    "    return model,kModel,startTime,modelName\n",
    "    \n",
    "    "
   ]
  },
  {
   "cell_type": "code",
   "execution_count": 28,
   "metadata": {
    "pycharm": {
     "name": "#%%\n"
    }
   },
   "outputs": [],
   "source": [
    "def checkTraining(model,kModel):\n",
    "    # This is the predicted score. Values range between [0,1]\n",
    "    y_predicted = model.predict(X_test)\n",
    "\n",
    "    # Prediction, fpr,tpr and threshold values for ROC.\n",
    "    fpr, tpr, thresholds = roc_curve(y_test, y_predicted)\n",
    "    aucroc = auc(fpr, tpr)\n",
    "    precision, recall, thresRecall = precision_recall_curve(y_test, y_predicted)\n",
    "    \n",
    "    figure, axs = plt.subplots(2, figsize=(6,10))\n",
    "    axs[0].set_xlabel(\"Score\")\n",
    "    axs[0].set_ylabel(\"Distribution\")\n",
    "    axs[0].legend(loc=\"upper right\")\n",
    "    axs[0].plot(fpr, tpr, \"r-\", label=\"ROC (area = %0.6f)\" % (aucroc))\n",
    "    axs[0].plot([0, 1], [0, 1], \"--\", color=(0.6, 0.6, 0.6), label=\"Luck\")\n",
    "    axs[0].set_xlim([-0.05, 1.05])\n",
    "    axs[0].set_ylim([-0.05, 1.05])\n",
    "    axs[0].set_xlabel(\"False Positive Rate\")\n",
    "    axs[0].set_ylabel(\"True Positive Rate\")\n",
    "    axs[0].set_title(\"Receiver operating characteristic\")\n",
    "    axs[0].legend(loc=\"lower right\")\n",
    "    axs[0].grid(True)\n",
    "    \n",
    "\n",
    "\n",
    "    # AUC\n",
    "    #plotROC(fpr, tpr, aucroc)\n",
    "\n",
    "    axs[1].plot(thresRecall, precision[:-1], \"b--\", label=\"Precision\")\n",
    "    axs[1].plot(thresRecall, recall[:-1], \"g-\", label=\"Recall\")\n",
    "    axs[1].set_ylim([0.00, 1.05])\n",
    "    axs[1].set_xlabel(\"Threshold\")\n",
    "    axs[1].set_title(\"Precision/Recall vs. Threshold Curve\")\n",
    "    axs[1].legend(loc=\"lower right\")\n",
    "    axs[1].grid(True)\n",
    "\n",
    "    compare_train_test(kModel, X_train, y_train, X_test, y_test)\n",
    "    \n",
    "    return aucroc"
   ]
  },
  {
   "cell_type": "code",
   "execution_count": 29,
   "metadata": {
    "pycharm": {
     "name": "#%%\n"
    }
   },
   "outputs": [],
   "source": [
    "def compare_train_test(kModel, X_train, y_train, X_test, y_test, bins=100):\n",
    "    \"\"\"\n",
    "    This creates the signal and background distrubution.\n",
    "    \"\"\"\n",
    "    i = 0\n",
    "    j = 0\n",
    "    sig_index = []\n",
    "    bkg_index = []\n",
    "    decisions = []\n",
    "        \n",
    "    for X, y in ((X_train, y_train), (X_test, y_test)):\n",
    "        # captures indices in X_train and X_test dataframes that correlate to signal and background events\n",
    "#         while i < len(y):\n",
    "#             if y[i] == 1.:\n",
    "#                 sig_index.append(j)\n",
    "#             elif y[i] == 0.:\n",
    "#                 bkg_index.append(j)\n",
    "#             i += 1\n",
    "#             j += 1\n",
    "#         i = 0\n",
    "        d1 = model.predict(X[y > 0.5]).ravel()  # signal\n",
    "        d2 = model.predict(X[y < 0.5]).ravel()  # background\n",
    "        decisions += [d1, d2]\n",
    "                \n",
    "    low = min(np.min(d) for d in decisions)\n",
    "    high = max(np.max(d) for d in decisions)\n",
    "    low_high = array([low, high])\n",
    "    \n",
    "    \n",
    "    \n",
    "    train_s = decisions[0]\n",
    "    train_b = decisions[1]\n",
    "    test_s = decisions[2]\n",
    "    test_b = decisions[3]\n",
    "        \n",
    "    \n",
    "    #Combining scores for test and training sets of signal and background seperately\n",
    "    S_scores = np.concatenate((train_s, test_s), axis=None)\n",
    "    B_scores = np.concatenate((train_b, test_b), axis=None)\n",
    "    max_s = S_scores.max()    \n",
    "    \n",
    "\n",
    "    #Scoring histograms for training sets\n",
    "    \n",
    "    figure2, axes = plt.subplots(2, figsize=(16,20))\n",
    "    axes[0].hist(\n",
    "        train_s,\n",
    "        color=\"r\",\n",
    "        alpha=0.5,\n",
    "        range=low_high,\n",
    "        bins=bins,\n",
    "        histtype=\"stepfilled\",\n",
    "        density=True,\n",
    "        label=\"S (train)\",\n",
    "    )\n",
    "    \n",
    "    axes[0].hist(\n",
    "        train_b,\n",
    "        color=\"b\",\n",
    "        alpha=0.5,\n",
    "        range=low_high,\n",
    "        bins=bins,\n",
    "        histtype=\"stepfilled\",\n",
    "        density=True,\n",
    "        label=\"B (train)\",\n",
    "    )\n",
    "    \n",
    "    #Scoring points for testing sets\n",
    "\n",
    "    histS, bins = np.histogram(test_s, bins=bins, range=low_high, density=True)\n",
    "    scale = len(test_s) / sum(histS)\n",
    "    err = np.sqrt(histS * scale) / scale\n",
    "\n",
    "    width = bins[1] - bins[0]\n",
    "    center = (bins[:-1] + bins[1:]) / 2\n",
    "    axes[0].errorbar(center, histS, yerr=err, fmt=\"o\", c=\"r\", label=\"S (test)\")\n",
    "\n",
    "    histB, bins = np.histogram(test_b, bins=bins, range=low_high, density=True)\n",
    "    scale = len(test_b) / sum(histB)\n",
    "    \n",
    "    histS2, bins = (np.histogram(S_scores, bins=bins, range=low_high, density=True))\n",
    "    histB2, bins = (np.histogram(B_scores, bins=bins, range=low_high, density=True))\n",
    "    \n",
    "    #start = score_testing(histS2, histB2)\n",
    "    \n",
    "    err = np.sqrt(histB * scale) / scale\n",
    "    axes[0].set_title(\"Net Learning Feedback\")\n",
    "    axes[0].errorbar(center, histB, yerr=err, fmt=\"o\", c=\"b\", label=\"B (test)\")\n",
    "    #axes[0].vlines(start, 0, 30, colors='green', label='Score Threshold')\n",
    "    axes[0].legend(loc='upper right')\n",
    "    axes[0].set_xlim(0,1)"
   ]
  },
  {
   "cell_type": "code",
   "execution_count": 31,
   "metadata": {
    "pycharm": {
     "name": "#%%\n"
    }
   },
   "outputs": [
    {
     "ename": "NameError",
     "evalue": "name 'X_train' is not defined",
     "output_type": "error",
     "traceback": [
      "\u001B[1;31m---------------------------------------------------------------------------\u001B[0m",
      "\u001B[1;31mNameError\u001B[0m                                 Traceback (most recent call last)",
      "\u001B[1;32m<ipython-input-31-abc0ed803006>\u001B[0m in \u001B[0;36m<module>\u001B[1;34m\u001B[0m\n\u001B[0;32m      4\u001B[0m \u001B[1;33m\u001B[0m\u001B[0m\n\u001B[0;32m      5\u001B[0m \u001B[1;31m# This runs the training. A for loop can be used to vary the parameters.\u001B[0m\u001B[1;33m\u001B[0m\u001B[1;33m\u001B[0m\u001B[1;33m\u001B[0m\u001B[0m\n\u001B[1;32m----> 6\u001B[1;33m \u001B[0mmodel\u001B[0m\u001B[1;33m,\u001B[0m\u001B[0mkModel\u001B[0m\u001B[1;33m,\u001B[0m\u001B[0mstartTime\u001B[0m\u001B[1;33m,\u001B[0m\u001B[0mmodelName\u001B[0m\u001B[1;33m=\u001B[0m\u001B[0mrunning\u001B[0m\u001B[1;33m(\u001B[0m\u001B[0mlayers\u001B[0m\u001B[1;33m,\u001B[0m\u001B[0mbatch\u001B[0m\u001B[1;33m,\u001B[0m\u001B[1;36m0.5\u001B[0m\u001B[1;33m,\u001B[0m \u001B[0mX_train\u001B[0m\u001B[1;33m,\u001B[0m \u001B[0my_train\u001B[0m\u001B[1;33m,\u001B[0m \u001B[0mX_test\u001B[0m\u001B[1;33m,\u001B[0m \u001B[0my_test\u001B[0m\u001B[1;33m)\u001B[0m\u001B[1;33m\u001B[0m\u001B[1;33m\u001B[0m\u001B[0m\n\u001B[0m",
      "\u001B[1;31mNameError\u001B[0m: name 'X_train' is not defined"
     ]
    }
   ],
   "source": [
    "batch = 512\n",
    "\n",
    "layers = 5\n",
    "\n",
    "# This runs the training. A for loop can be used to vary the parameters. \n",
    "model,kModel,startTime,modelName=running(layers,batch,0.5, X_train, y_train, X_test, y_test) "
   ]
  },
  {
   "cell_type": "code",
   "execution_count": null,
   "metadata": {
    "pycharm": {
     "name": "#%%\n"
    }
   },
   "outputs": [],
   "source": []
  }
 ],
 "metadata": {
  "kernelspec": {
   "display_name": "Python 3",
   "language": "python",
   "name": "python3"
  },
  "language_info": {
   "codemirror_mode": {
    "name": "ipython",
    "version": 3
   },
   "file_extension": ".py",
   "mimetype": "text/x-python",
   "name": "python",
   "nbconvert_exporter": "python",
   "pygments_lexer": "ipython3",
   "version": "3.7.6"
  }
 },
 "nbformat": 4,
 "nbformat_minor": 4
}
