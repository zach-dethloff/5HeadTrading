{
 "cells": [
  {
   "cell_type": "code",
   "execution_count": 2,
   "id": "d7b34650-622f-480e-9ade-911ec23b0796",
   "metadata": {
    "pycharm": {
     "name": "#%%\n"
    }
   },
   "outputs": [
    {
     "name": "stdout",
     "output_type": "stream",
     "text": [
      "Collecting Historic-Crypto\n",
      "  Downloading Historic_Crypto-0.1.6-py3-none-any.whl (8.8 kB)\n",
      "Requirement already satisfied: requests in /Users/max/.local/lib/python3.9/site-packages (from Historic-Crypto) (2.25.1)\n",
      "Requirement already satisfied: numpy in /Users/max/opt/anaconda3/lib/python3.9/site-packages (from Historic-Crypto) (1.22.3)\n",
      "Requirement already satisfied: certifi>=2017.4.17 in /Users/max/opt/anaconda3/lib/python3.9/site-packages (from requests->Historic-Crypto) (2022.9.24)\n",
      "Requirement already satisfied: chardet<5,>=3.0.2 in /Users/max/opt/anaconda3/lib/python3.9/site-packages (from requests->Historic-Crypto) (4.0.0)\n",
      "Requirement already satisfied: idna<3,>=2.5 in /Users/max/.local/lib/python3.9/site-packages (from requests->Historic-Crypto) (2.10)\n",
      "Requirement already satisfied: urllib3<1.27,>=1.21.1 in /Users/max/opt/anaconda3/lib/python3.9/site-packages (from requests->Historic-Crypto) (1.26.7)\n",
      "Installing collected packages: Historic-Crypto\n",
      "Successfully installed Historic-Crypto-0.1.6\n"
     ]
    }
   ],
   "source": [
    "# Install a pip package in the current Jupyter kernel\n",
    "import sys\n",
    "!{sys.executable} -m pip install Historic-Crypto"
   ]
  },
  {
   "cell_type": "code",
   "execution_count": 5,
   "id": "72f34a0e-9af3-4b89-8738-ddb7ee58e513",
   "metadata": {
    "pycharm": {
     "name": "#%%\n"
    }
   },
   "outputs": [],
   "source": [
    "from Historic_Crypto import HistoricalData\n",
    "from Historic_Crypto import Cryptocurrencies\n",
    "from Historic_Crypto import LiveCryptoData\n",
    "import pandas as pd"
   ]
  },
  {
   "cell_type": "code",
   "execution_count": 4,
   "id": "3ae4472b-3af5-445d-9e79-f04479e43aef",
   "metadata": {
    "pycharm": {
     "name": "#%%\n"
    }
   },
   "outputs": [
    {
     "name": "stdout",
     "output_type": "stream",
     "text": [
      "Connected to the CoinBase Pro API.\n",
      "Extended Output is False, returning reduced dataset.\n"
     ]
    },
    {
     "data": {
      "text/html": [
       "<div>\n",
       "<style scoped>\n",
       "    .dataframe tbody tr th:only-of-type {\n",
       "        vertical-align: middle;\n",
       "    }\n",
       "\n",
       "    .dataframe tbody tr th {\n",
       "        vertical-align: top;\n",
       "    }\n",
       "\n",
       "    .dataframe thead th {\n",
       "        text-align: right;\n",
       "    }\n",
       "</style>\n",
       "<table border=\"1\" class=\"dataframe\">\n",
       "  <thead>\n",
       "    <tr style=\"text-align: right;\">\n",
       "      <th></th>\n",
       "      <th>id</th>\n",
       "      <th>display_name</th>\n",
       "      <th>fx_stablecoin</th>\n",
       "      <th>max_slippage_percentage</th>\n",
       "      <th>status</th>\n",
       "    </tr>\n",
       "  </thead>\n",
       "  <tbody>\n",
       "    <tr>\n",
       "      <th>0</th>\n",
       "      <td>SUSHI-EUR</td>\n",
       "      <td>SUSHI/EUR</td>\n",
       "      <td>False</td>\n",
       "      <td>0.03000000</td>\n",
       "      <td>online</td>\n",
       "    </tr>\n",
       "    <tr>\n",
       "      <th>1</th>\n",
       "      <td>SHIB-EUR</td>\n",
       "      <td>SHIB/EUR</td>\n",
       "      <td>False</td>\n",
       "      <td>0.03000000</td>\n",
       "      <td>online</td>\n",
       "    </tr>\n",
       "    <tr>\n",
       "      <th>2</th>\n",
       "      <td>PERP-EUR</td>\n",
       "      <td>PERP/EUR</td>\n",
       "      <td>False</td>\n",
       "      <td>0.03000000</td>\n",
       "      <td>online</td>\n",
       "    </tr>\n",
       "    <tr>\n",
       "      <th>3</th>\n",
       "      <td>AVAX-USDT</td>\n",
       "      <td>AVAX/USDT</td>\n",
       "      <td>False</td>\n",
       "      <td>0.03000000</td>\n",
       "      <td>online</td>\n",
       "    </tr>\n",
       "    <tr>\n",
       "      <th>4</th>\n",
       "      <td>DOT-EUR</td>\n",
       "      <td>DOT/EUR</td>\n",
       "      <td>False</td>\n",
       "      <td>0.03000000</td>\n",
       "      <td>online</td>\n",
       "    </tr>\n",
       "    <tr>\n",
       "      <th>...</th>\n",
       "      <td>...</td>\n",
       "      <td>...</td>\n",
       "      <td>...</td>\n",
       "      <td>...</td>\n",
       "      <td>...</td>\n",
       "    </tr>\n",
       "    <tr>\n",
       "      <th>558</th>\n",
       "      <td>AAVE-USD</td>\n",
       "      <td>AAVE/USD</td>\n",
       "      <td>False</td>\n",
       "      <td>0.03000000</td>\n",
       "      <td>online</td>\n",
       "    </tr>\n",
       "    <tr>\n",
       "      <th>559</th>\n",
       "      <td>AXS-USD</td>\n",
       "      <td>AXS/USD</td>\n",
       "      <td>False</td>\n",
       "      <td>0.03000000</td>\n",
       "      <td>online</td>\n",
       "    </tr>\n",
       "    <tr>\n",
       "      <th>560</th>\n",
       "      <td>SAND-USD</td>\n",
       "      <td>SAND/USD</td>\n",
       "      <td>False</td>\n",
       "      <td>0.03000000</td>\n",
       "      <td>online</td>\n",
       "    </tr>\n",
       "    <tr>\n",
       "      <th>561</th>\n",
       "      <td>NEAR-USD</td>\n",
       "      <td>NEAR/USD</td>\n",
       "      <td>False</td>\n",
       "      <td>0.03000000</td>\n",
       "      <td>online</td>\n",
       "    </tr>\n",
       "    <tr>\n",
       "      <th>562</th>\n",
       "      <td>BOND-USD</td>\n",
       "      <td>BOND/USD</td>\n",
       "      <td>False</td>\n",
       "      <td>0.03000000</td>\n",
       "      <td>online</td>\n",
       "    </tr>\n",
       "  </tbody>\n",
       "</table>\n",
       "<p>563 rows × 5 columns</p>\n",
       "</div>"
      ],
      "text/plain": [
       "            id display_name  fx_stablecoin max_slippage_percentage  status\n",
       "0    SUSHI-EUR    SUSHI/EUR          False              0.03000000  online\n",
       "1     SHIB-EUR     SHIB/EUR          False              0.03000000  online\n",
       "2     PERP-EUR     PERP/EUR          False              0.03000000  online\n",
       "3    AVAX-USDT    AVAX/USDT          False              0.03000000  online\n",
       "4      DOT-EUR      DOT/EUR          False              0.03000000  online\n",
       "..         ...          ...            ...                     ...     ...\n",
       "558   AAVE-USD     AAVE/USD          False              0.03000000  online\n",
       "559    AXS-USD      AXS/USD          False              0.03000000  online\n",
       "560   SAND-USD     SAND/USD          False              0.03000000  online\n",
       "561   NEAR-USD     NEAR/USD          False              0.03000000  online\n",
       "562   BOND-USD     BOND/USD          False              0.03000000  online\n",
       "\n",
       "[563 rows x 5 columns]"
      ]
     },
     "execution_count": 4,
     "metadata": {},
     "output_type": "execute_result"
    }
   ],
   "source": [
    "Cryptocurrencies().find_crypto_pairs()"
   ]
  },
  {
   "cell_type": "code",
   "execution_count": 7,
   "id": "9cd8630e-eead-43ce-a98e-26902118ea02",
   "metadata": {
    "pycharm": {
     "name": "#%%\n"
    }
   },
   "outputs": [
    {
     "name": "stdout",
     "output_type": "stream",
     "text": [
      "Provisional Start: 2021-06-01T00:00:00\n",
      "Provisional End: 2021-06-13T12:00:00\n",
      "Provisional Start: 2021-06-13T12:00:00\n",
      "Provisional End: 2021-06-26T00:00:00\n",
      "Provisional Start: 2021-06-26T00:00:00\n",
      "Provisional End: 2021-07-08T12:00:00\n",
      "Provisional Start: 2021-07-08T12:00:00\n",
      "Provisional End: 2021-07-21T00:00:00\n",
      "Provisional Start: 2021-07-21T00:00:00\n",
      "Provisional End: 2021-08-02T12:00:00\n",
      "Provisional Start: 2021-08-02T12:00:00\n",
      "Provisional End: 2021-08-15T00:00:00\n",
      "Provisional Start: 2021-08-15T00:00:00\n",
      "Provisional End: 2021-08-27T12:00:00\n",
      "Provisional Start: 2021-08-27T12:00:00\n",
      "Provisional End: 2021-09-09T00:00:00\n",
      "Provisional Start: 2021-09-09T00:00:00\n",
      "Provisional End: 2021-09-21T12:00:00\n",
      "Provisional Start: 2021-09-21T12:00:00\n",
      "Provisional End: 2021-10-04T00:00:00\n",
      "Provisional Start: 2021-10-04T00:00:00\n",
      "Provisional End: 2021-10-16T12:00:00\n",
      "Provisional Start: 2021-10-16T12:00:00\n",
      "Provisional End: 2021-10-29T00:00:00\n",
      "Provisional Start: 2021-10-29T00:00:00\n",
      "Provisional End: 2021-11-10T12:00:00\n",
      "Provisional Start: 2021-11-10T12:00:00\n",
      "Provisional End: 2021-11-23T00:00:00\n",
      "Provisional Start: 2021-11-23T00:00:00\n",
      "Provisional End: 2021-12-05T12:00:00\n",
      "Provisional Start: 2021-12-05T12:00:00\n",
      "Provisional End: 2021-12-18T00:00:00\n",
      "Provisional Start: 2021-12-18T00:00:00\n",
      "Provisional End: 2021-12-30T12:00:00\n",
      "Provisional Start: 2021-12-30T12:00:00\n",
      "Provisional End: 2022-01-12T00:00:00\n",
      "Provisional Start: 2022-01-12T00:00:00\n",
      "Provisional End: 2022-01-24T12:00:00\n",
      "Provisional Start: 2022-01-24T12:00:00\n",
      "Provisional End: 2022-02-06T00:00:00\n",
      "Provisional Start: 2022-02-06T00:00:00\n",
      "Provisional End: 2022-02-18T12:00:00\n",
      "Provisional Start: 2022-02-18T12:00:00\n",
      "Provisional End: 2022-03-03T00:00:00\n",
      "Provisional Start: 2022-03-03T00:00:00\n",
      "Provisional End: 2022-03-15T12:00:00\n",
      "Provisional Start: 2022-03-15T12:00:00\n",
      "Provisional End: 2022-03-28T00:00:00\n",
      "Provisional Start: 2022-03-28T00:00:00\n",
      "Provisional End: 2022-04-09T12:00:00\n",
      "Provisional Start: 2022-04-09T12:00:00\n",
      "Provisional End: 2022-04-22T00:00:00\n",
      "Provisional Start: 2022-04-22T00:00:00\n",
      "Provisional End: 2022-05-04T12:00:00\n",
      "Provisional Start: 2022-05-04T12:00:00\n",
      "Provisional End: 2022-05-17T00:00:00\n",
      "Provisional Start: 2022-05-17T00:00:00\n",
      "Provisional End: 2022-05-29T12:00:00\n",
      "Provisional Start: 2022-05-29T12:00:00\n",
      "Provisional End: 2022-06-11T00:00:00\n",
      "Provisional Start: 2022-06-11T00:00:00\n",
      "Provisional End: 2022-06-23T12:00:00\n",
      "Provisional Start: 2022-06-23T12:00:00\n",
      "Provisional End: 2022-07-06T00:00:00\n",
      "Provisional Start: 2022-07-06T00:00:00\n",
      "Provisional End: 2022-07-18T12:00:00\n",
      "Provisional Start: 2022-07-18T12:00:00\n",
      "Provisional End: 2022-07-31T00:00:00\n",
      "Provisional Start: 2022-07-31T00:00:00\n",
      "Provisional End: 2022-08-12T12:00:00\n",
      "Provisional Start: 2022-08-12T12:00:00\n",
      "Provisional End: 2022-08-25T00:00:00\n",
      "Provisional Start: 2022-08-25T00:00:00\n",
      "Provisional End: 2022-09-06T12:00:00\n",
      "Provisional Start: 2022-09-06T12:00:00\n",
      "Provisional End: 2022-09-19T00:00:00\n",
      "Provisional Start: 2022-09-19T00:00:00\n",
      "Provisional End: 2022-10-01T12:00:00\n",
      "Provisional Start: 2022-10-01T12:00:00\n",
      "Provisional End: 2022-10-14T00:00:00\n",
      "Provisional Start: 2022-10-14T00:00:00\n",
      "Provisional End: 2022-10-26T12:00:00\n"
     ]
    }
   ],
   "source": [
    "data = HistoricalData('ETH-USD',3600,'2021-06-01-00-00', verbose=False).retrieve_data()"
   ]
  },
  {
   "cell_type": "code",
   "execution_count": 9,
   "id": "80733f8e-24bb-4b9d-8a10-c58638420487",
   "metadata": {
    "pycharm": {
     "name": "#%%\n"
    }
   },
   "outputs": [],
   "source": [
    "df = pd.DataFrame(data)"
   ]
  },
  {
   "cell_type": "code",
   "execution_count": 13,
   "id": "404b1391-44ce-40d8-838c-3674ad388a3d",
   "metadata": {
    "pycharm": {
     "name": "#%%\n"
    }
   },
   "outputs": [
    {
     "data": {
      "text/html": [
       "<div>\n",
       "<style scoped>\n",
       "    .dataframe tbody tr th:only-of-type {\n",
       "        vertical-align: middle;\n",
       "    }\n",
       "\n",
       "    .dataframe tbody tr th {\n",
       "        vertical-align: top;\n",
       "    }\n",
       "\n",
       "    .dataframe thead th {\n",
       "        text-align: right;\n",
       "    }\n",
       "</style>\n",
       "<table border=\"1\" class=\"dataframe\">\n",
       "  <thead>\n",
       "    <tr style=\"text-align: right;\">\n",
       "      <th></th>\n",
       "      <th>low</th>\n",
       "      <th>high</th>\n",
       "      <th>open</th>\n",
       "      <th>close</th>\n",
       "      <th>volume</th>\n",
       "    </tr>\n",
       "    <tr>\n",
       "      <th>time</th>\n",
       "      <th></th>\n",
       "      <th></th>\n",
       "      <th></th>\n",
       "      <th></th>\n",
       "      <th></th>\n",
       "    </tr>\n",
       "  </thead>\n",
       "  <tbody>\n",
       "    <tr>\n",
       "      <th>2021-06-01 01:00:00</th>\n",
       "      <td>2656.33</td>\n",
       "      <td>2733.17</td>\n",
       "      <td>2733.17</td>\n",
       "      <td>2659.90</td>\n",
       "      <td>19736.222380</td>\n",
       "    </tr>\n",
       "    <tr>\n",
       "      <th>2021-06-01 02:00:00</th>\n",
       "      <td>2615.90</td>\n",
       "      <td>2675.85</td>\n",
       "      <td>2659.89</td>\n",
       "      <td>2645.90</td>\n",
       "      <td>18937.228584</td>\n",
       "    </tr>\n",
       "    <tr>\n",
       "      <th>2021-06-01 03:00:00</th>\n",
       "      <td>2615.06</td>\n",
       "      <td>2679.00</td>\n",
       "      <td>2645.56</td>\n",
       "      <td>2631.28</td>\n",
       "      <td>16276.604299</td>\n",
       "    </tr>\n",
       "    <tr>\n",
       "      <th>2021-06-01 04:00:00</th>\n",
       "      <td>2616.62</td>\n",
       "      <td>2659.88</td>\n",
       "      <td>2630.66</td>\n",
       "      <td>2637.46</td>\n",
       "      <td>7452.697987</td>\n",
       "    </tr>\n",
       "    <tr>\n",
       "      <th>2021-06-01 05:00:00</th>\n",
       "      <td>2633.71</td>\n",
       "      <td>2714.16</td>\n",
       "      <td>2636.74</td>\n",
       "      <td>2699.64</td>\n",
       "      <td>11836.470941</td>\n",
       "    </tr>\n",
       "  </tbody>\n",
       "</table>\n",
       "</div>"
      ],
      "text/plain": [
       "                         low     high     open    close        volume\n",
       "time                                                                 \n",
       "2021-06-01 01:00:00  2656.33  2733.17  2733.17  2659.90  19736.222380\n",
       "2021-06-01 02:00:00  2615.90  2675.85  2659.89  2645.90  18937.228584\n",
       "2021-06-01 03:00:00  2615.06  2679.00  2645.56  2631.28  16276.604299\n",
       "2021-06-01 04:00:00  2616.62  2659.88  2630.66  2637.46   7452.697987\n",
       "2021-06-01 05:00:00  2633.71  2714.16  2636.74  2699.64  11836.470941"
      ]
     },
     "execution_count": 13,
     "metadata": {},
     "output_type": "execute_result"
    }
   ],
   "source": [
    "df.head()"
   ]
  },
  {
   "cell_type": "code",
   "execution_count": 17,
   "id": "e160bc07-4e6e-40b6-8476-1fa46b1c3e89",
   "metadata": {
    "pycharm": {
     "name": "#%%\n"
    }
   },
   "outputs": [],
   "source": [
    "df.to_csv('init_data_test.csv')"
   ]
  }
 ],
 "metadata": {
  "kernelspec": {
   "display_name": "Python 3 (ipykernel)",
   "language": "python",
   "name": "python3"
  },
  "language_info": {
   "codemirror_mode": {
    "name": "ipython",
    "version": 3
   },
   "file_extension": ".py",
   "mimetype": "text/x-python",
   "name": "python",
   "nbconvert_exporter": "python",
   "pygments_lexer": "ipython3",
   "version": "3.9.7"
  }
 },
 "nbformat": 4,
 "nbformat_minor": 5
}